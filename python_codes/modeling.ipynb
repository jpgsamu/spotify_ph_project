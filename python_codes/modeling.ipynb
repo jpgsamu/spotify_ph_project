{
 "cells": [
  {
   "cell_type": "markdown",
   "metadata": {},
   "source": [
    "##### Importing Libs"
   ]
  },
  {
   "cell_type": "code",
   "execution_count": 15,
   "metadata": {},
   "outputs": [],
   "source": [
    "import pandas as pd\n",
    "import sqlalchemy\n",
    "from sklearn.model_selection import train_test_split\n",
    "from sklearn import tree\n",
    "from sklearn import ensemble\n",
    "from sklearn import metrics\n",
    "import os\n",
    "import seaborn\n",
    "import matplotlib.pyplot as plt"
   ]
  },
  {
   "cell_type": "markdown",
   "metadata": {},
   "source": [
    "##### 1) Fetching our ABT"
   ]
  },
  {
   "cell_type": "code",
   "execution_count": 8,
   "metadata": {},
   "outputs": [
    {
     "data": {
      "text/html": [
       "<div>\n",
       "<style scoped>\n",
       "    .dataframe tbody tr th:only-of-type {\n",
       "        vertical-align: middle;\n",
       "    }\n",
       "\n",
       "    .dataframe tbody tr th {\n",
       "        vertical-align: top;\n",
       "    }\n",
       "\n",
       "    .dataframe thead th {\n",
       "        text-align: right;\n",
       "    }\n",
       "</style>\n",
       "<table border=\"1\" class=\"dataframe\">\n",
       "  <thead>\n",
       "    <tr style=\"text-align: right;\">\n",
       "      <th></th>\n",
       "      <th>ts</th>\n",
       "      <th>track</th>\n",
       "      <th>artist</th>\n",
       "      <th>album</th>\n",
       "      <th>dow</th>\n",
       "      <th>tod</th>\n",
       "      <th>plays_acc</th>\n",
       "      <th>ms_acc</th>\n",
       "      <th>ms_avg</th>\n",
       "      <th>perc_skipped_acc</th>\n",
       "      <th>...</th>\n",
       "      <th>perc_end_endplay_acc</th>\n",
       "      <th>perc_end_fwdbtn_acc</th>\n",
       "      <th>perc_end_remote_acc</th>\n",
       "      <th>perc_end_logout_acc</th>\n",
       "      <th>perc_end_backbtn_acc</th>\n",
       "      <th>perc_end_paused_acc</th>\n",
       "      <th>perc_end_exit_acc</th>\n",
       "      <th>perc_end_unknown_acc</th>\n",
       "      <th>perc_end_trackerror_acc</th>\n",
       "      <th>skipped</th>\n",
       "    </tr>\n",
       "  </thead>\n",
       "  <tbody>\n",
       "    <tr>\n",
       "      <th>0</th>\n",
       "      <td>2022-10-15T14:27:21Z</td>\n",
       "      <td>Dance of the Moonlight Jellies</td>\n",
       "      <td>ConcernedApe</td>\n",
       "      <td>Stardew Valley (Original Game Soundtrack)</td>\n",
       "      <td>sat</td>\n",
       "      <td>afternoon</td>\n",
       "      <td>0</td>\n",
       "      <td>0</td>\n",
       "      <td>0.0</td>\n",
       "      <td>-1.0</td>\n",
       "      <td>...</td>\n",
       "      <td>-1.0</td>\n",
       "      <td>-1.0</td>\n",
       "      <td>-1.0</td>\n",
       "      <td>-1.0</td>\n",
       "      <td>-1.0</td>\n",
       "      <td>-1.0</td>\n",
       "      <td>-1.0</td>\n",
       "      <td>-1.0</td>\n",
       "      <td>-1.0</td>\n",
       "      <td>1</td>\n",
       "    </tr>\n",
       "  </tbody>\n",
       "</table>\n",
       "<p>1 rows × 29 columns</p>\n",
       "</div>"
      ],
      "text/plain": [
       "                     ts                           track        artist  \\\n",
       "0  2022-10-15T14:27:21Z  Dance of the Moonlight Jellies  ConcernedApe   \n",
       "\n",
       "                                       album  dow        tod  plays_acc  \\\n",
       "0  Stardew Valley (Original Game Soundtrack)  sat  afternoon          0   \n",
       "\n",
       "   ms_acc  ms_avg  perc_skipped_acc  ...  perc_end_endplay_acc  \\\n",
       "0       0     0.0              -1.0  ...                  -1.0   \n",
       "\n",
       "   perc_end_fwdbtn_acc  perc_end_remote_acc  perc_end_logout_acc  \\\n",
       "0                 -1.0                 -1.0                 -1.0   \n",
       "\n",
       "   perc_end_backbtn_acc  perc_end_paused_acc  perc_end_exit_acc  \\\n",
       "0                  -1.0                 -1.0               -1.0   \n",
       "\n",
       "   perc_end_unknown_acc  perc_end_trackerror_acc  skipped  \n",
       "0                  -1.0                     -1.0        1  \n",
       "\n",
       "[1 rows x 29 columns]"
      ]
     },
     "execution_count": 8,
     "metadata": {},
     "output_type": "execute_result"
    }
   ],
   "source": [
    "DB_PATH = os.path.dirname(os.getcwd()) + r\"\\spotify_ph.db\"\n",
    "engine = sqlalchemy.create_engine(\"sqlite:///\" + DB_PATH)\n",
    "table = \"tb_abt_spotify_ph\"\n",
    "\n",
    "df_abt = pd.read_sql_table(table, engine)\n",
    "df_abt.head(1)"
   ]
  },
  {
   "cell_type": "markdown",
   "metadata": {},
   "source": [
    "##### 2) Exploring"
   ]
  },
  {
   "cell_type": "markdown",
   "metadata": {},
   "source": [
    "###### 2.1. Skipped Songs vs. Day of Week (DOW)"
   ]
  },
  {
   "cell_type": "code",
   "execution_count": 85,
   "metadata": {},
   "outputs": [
    {
     "data": {
      "text/html": [
       "<div>\n",
       "<style scoped>\n",
       "    .dataframe tbody tr th:only-of-type {\n",
       "        vertical-align: middle;\n",
       "    }\n",
       "\n",
       "    .dataframe tbody tr th {\n",
       "        vertical-align: top;\n",
       "    }\n",
       "\n",
       "    .dataframe thead th {\n",
       "        text-align: right;\n",
       "    }\n",
       "</style>\n",
       "<table border=\"1\" class=\"dataframe\">\n",
       "  <thead>\n",
       "    <tr style=\"text-align: right;\">\n",
       "      <th></th>\n",
       "      <th>dow</th>\n",
       "      <th>plays</th>\n",
       "      <th>perc_skipped</th>\n",
       "    </tr>\n",
       "  </thead>\n",
       "  <tbody>\n",
       "    <tr>\n",
       "      <th>0</th>\n",
       "      <td>fri</td>\n",
       "      <td>4669</td>\n",
       "      <td>0.640180</td>\n",
       "    </tr>\n",
       "    <tr>\n",
       "      <th>4</th>\n",
       "      <td>thu</td>\n",
       "      <td>4179</td>\n",
       "      <td>0.516152</td>\n",
       "    </tr>\n",
       "    <tr>\n",
       "      <th>6</th>\n",
       "      <td>wed</td>\n",
       "      <td>3211</td>\n",
       "      <td>0.524759</td>\n",
       "    </tr>\n",
       "    <tr>\n",
       "      <th>1</th>\n",
       "      <td>mon</td>\n",
       "      <td>3159</td>\n",
       "      <td>0.454574</td>\n",
       "    </tr>\n",
       "    <tr>\n",
       "      <th>5</th>\n",
       "      <td>tue</td>\n",
       "      <td>3093</td>\n",
       "      <td>0.544779</td>\n",
       "    </tr>\n",
       "    <tr>\n",
       "      <th>2</th>\n",
       "      <td>sat</td>\n",
       "      <td>3090</td>\n",
       "      <td>0.507443</td>\n",
       "    </tr>\n",
       "    <tr>\n",
       "      <th>3</th>\n",
       "      <td>sun</td>\n",
       "      <td>2649</td>\n",
       "      <td>0.448849</td>\n",
       "    </tr>\n",
       "  </tbody>\n",
       "</table>\n",
       "</div>"
      ],
      "text/plain": [
       "   dow  plays  perc_skipped\n",
       "0  fri   4669      0.640180\n",
       "4  thu   4179      0.516152\n",
       "6  wed   3211      0.524759\n",
       "1  mon   3159      0.454574\n",
       "5  tue   3093      0.544779\n",
       "2  sat   3090      0.507443\n",
       "3  sun   2649      0.448849"
      ]
     },
     "execution_count": 85,
     "metadata": {},
     "output_type": "execute_result"
    }
   ],
   "source": [
    "df_dow_skip = df_abt[[\"dow\",\"skipped\"]].groupby([\"dow\"]).mean()[\"skipped\"].reset_index()\n",
    "df_dow_skip.rename(columns={\"skipped\":\"perc_skipped\"}, inplace = True)\n",
    "\n",
    "df_dow_count = df_abt[[\"dow\",\"skipped\"]].groupby([\"dow\"]).count()[\"skipped\"].reset_index()\n",
    "df_dow_count.rename(columns={\"skipped\":\"plays\"}, inplace = True)\n",
    "\n",
    "df_dow = pd.merge(df_dow_count, df_dow_skip, left_on = \"dow\", right_on = \"dow\")\n",
    "df_dow.sort_values(by = \"plays\", ascending = False, inplace = True)\n",
    "\n",
    "df_dow"
   ]
  },
  {
   "cell_type": "markdown",
   "metadata": {},
   "source": [
    "###### 2.1. Skipped Songs vs. Time of Day (TOD)"
   ]
  },
  {
   "cell_type": "code",
   "execution_count": 89,
   "metadata": {},
   "outputs": [
    {
     "data": {
      "text/html": [
       "<div>\n",
       "<style scoped>\n",
       "    .dataframe tbody tr th:only-of-type {\n",
       "        vertical-align: middle;\n",
       "    }\n",
       "\n",
       "    .dataframe tbody tr th {\n",
       "        vertical-align: top;\n",
       "    }\n",
       "\n",
       "    .dataframe thead th {\n",
       "        text-align: right;\n",
       "    }\n",
       "</style>\n",
       "<table border=\"1\" class=\"dataframe\">\n",
       "  <thead>\n",
       "    <tr style=\"text-align: right;\">\n",
       "      <th></th>\n",
       "      <th>tod</th>\n",
       "      <th>plays</th>\n",
       "      <th>perc_skipped</th>\n",
       "    </tr>\n",
       "  </thead>\n",
       "  <tbody>\n",
       "    <tr>\n",
       "      <th>0</th>\n",
       "      <td>afternoon</td>\n",
       "      <td>8581</td>\n",
       "      <td>0.521618</td>\n",
       "    </tr>\n",
       "    <tr>\n",
       "      <th>1</th>\n",
       "      <td>earlynight</td>\n",
       "      <td>6204</td>\n",
       "      <td>0.676015</td>\n",
       "    </tr>\n",
       "    <tr>\n",
       "      <th>3</th>\n",
       "      <td>morning</td>\n",
       "      <td>5549</td>\n",
       "      <td>0.520274</td>\n",
       "    </tr>\n",
       "    <tr>\n",
       "      <th>2</th>\n",
       "      <td>latenight</td>\n",
       "      <td>3716</td>\n",
       "      <td>0.310011</td>\n",
       "    </tr>\n",
       "  </tbody>\n",
       "</table>\n",
       "</div>"
      ],
      "text/plain": [
       "          tod  plays  perc_skipped\n",
       "0   afternoon   8581      0.521618\n",
       "1  earlynight   6204      0.676015\n",
       "3     morning   5549      0.520274\n",
       "2   latenight   3716      0.310011"
      ]
     },
     "execution_count": 89,
     "metadata": {},
     "output_type": "execute_result"
    }
   ],
   "source": [
    "df_tod_skip = df_abt[[\"tod\",\"skipped\"]].groupby([\"tod\"]).mean()[\"skipped\"].reset_index()\n",
    "df_tod_skip.rename(columns={\"skipped\":\"perc_skipped\"}, inplace = True)\n",
    "\n",
    "df_tod_count = df_abt[[\"tod\",\"skipped\"]].groupby([\"tod\"]).count()[\"skipped\"].reset_index()\n",
    "df_tod_count.rename(columns={\"skipped\":\"plays\"}, inplace = True)\n",
    "\n",
    "df_tod = pd.merge(df_tod_count, df_tod_skip, left_on = \"tod\", right_on = \"tod\")\n",
    "df_tod.sort_values(by = \"plays\", ascending = False, inplace = True)\n",
    "\n",
    "df_tod"
   ]
  },
  {
   "cell_type": "code",
   "execution_count": null,
   "metadata": {},
   "outputs": [],
   "source": []
  }
 ],
 "metadata": {
  "kernelspec": {
   "display_name": "Python 3",
   "language": "python",
   "name": "python3"
  },
  "language_info": {
   "codemirror_mode": {
    "name": "ipython",
    "version": 3
   },
   "file_extension": ".py",
   "mimetype": "text/x-python",
   "name": "python",
   "nbconvert_exporter": "python",
   "pygments_lexer": "ipython3",
   "version": "3.10.1"
  }
 },
 "nbformat": 4,
 "nbformat_minor": 2
}

{
 "cells": [
  {
   "cell_type": "markdown",
   "metadata": {},
   "source": [
    "##### Importing Libs"
   ]
  },
  {
   "cell_type": "code",
   "execution_count": 1,
   "metadata": {},
   "outputs": [],
   "source": [
    "import pandas as pd\n",
    "import os\n",
    "import sqlalchemy"
   ]
  },
  {
   "cell_type": "markdown",
   "metadata": {},
   "source": [
    "##### Fetching file names"
   ]
  },
  {
   "cell_type": "code",
   "execution_count": 2,
   "metadata": {},
   "outputs": [
    {
     "data": {
      "text/plain": [
       "'2022-2023_7.json'"
      ]
     },
     "execution_count": 2,
     "metadata": {},
     "output_type": "execute_result"
    }
   ],
   "source": [
    "path_0 = os.path.dirname(os.getcwd()) + r\"\\raw_data\\Streaming_History_Audio_\"\n",
    "path_n = [\"2014-2016_0.json\"] + [str(2016 + i) + \"-\" + str(2017 + i) + \"_\" + str(i + 1) + \".json\" for i in range (8)]\n",
    "path_7 = path_n[7]\n",
    "path_7"
   ]
  },
  {
   "cell_type": "markdown",
   "metadata": {},
   "source": [
    "##### Compiling everything in a DF"
   ]
  },
  {
   "cell_type": "code",
   "execution_count": 3,
   "metadata": {},
   "outputs": [
    {
     "name": "stdout",
     "output_type": "stream",
     "text": [
      "Read:  2014-2016_0.json  / Shape:  (15506, 21)\n",
      "Read:  2016-2017_1.json  / Shape:  (17223, 21)\n",
      "Read:  2017-2018_2.json  / Shape:  (16875, 21)\n",
      "Read:  2018-2019_3.json  / Shape:  (16214, 21)\n",
      "Read:  2019-2020_4.json  / Shape:  (16246, 21)\n",
      "Read:  2020-2021_5.json  / Shape:  (16405, 21)\n",
      "Read:  2021-2022_6.json  / Shape:  (16553, 21)\n",
      "Read:  2022-2023_7.json  / Shape:  (16977, 21)\n",
      "Read:  2023-2024_8.json  / Shape:  (15914, 21)\n",
      "Final df shape:  (147913, 21)\n"
     ]
    }
   ],
   "source": [
    "df_audio = pd.DataFrame() # (columns = pd.read_json(path_0 + path_n[0]).columns)\n",
    "\n",
    "for path in path_n:\n",
    "    df = pd.read_json(path_0 + path)\n",
    "    print(\"Read: \", path, \" / Shape: \", df.shape)\n",
    "    df_audio = pd.concat([df_audio, df])\n",
    "\n",
    "df_audio.reset_index(drop=True)\n",
    "print(\"Final df shape: \", df_audio.shape) "
   ]
  },
  {
   "cell_type": "markdown",
   "metadata": {},
   "source": [
    "##### Filtering data"
   ]
  },
  {
   "cell_type": "code",
   "execution_count": 4,
   "metadata": {},
   "outputs": [
    {
     "data": {
      "text/html": [
       "<div>\n",
       "<style scoped>\n",
       "    .dataframe tbody tr th:only-of-type {\n",
       "        vertical-align: middle;\n",
       "    }\n",
       "\n",
       "    .dataframe tbody tr th {\n",
       "        vertical-align: top;\n",
       "    }\n",
       "\n",
       "    .dataframe thead th {\n",
       "        text-align: right;\n",
       "    }\n",
       "</style>\n",
       "<table border=\"1\" class=\"dataframe\">\n",
       "  <thead>\n",
       "    <tr style=\"text-align: right;\">\n",
       "      <th></th>\n",
       "      <th>ts</th>\n",
       "      <th>ms_played</th>\n",
       "      <th>conn_country</th>\n",
       "      <th>master_metadata_track_name</th>\n",
       "      <th>master_metadata_album_artist_name</th>\n",
       "      <th>master_metadata_album_album_name</th>\n",
       "      <th>reason_start</th>\n",
       "      <th>reason_end</th>\n",
       "      <th>shuffle</th>\n",
       "      <th>offline</th>\n",
       "      <th>skipped</th>\n",
       "    </tr>\n",
       "  </thead>\n",
       "  <tbody>\n",
       "    <tr>\n",
       "      <th>0</th>\n",
       "      <td>2014-10-02T10:59:36Z</td>\n",
       "      <td>26563</td>\n",
       "      <td>BR</td>\n",
       "      <td>Candidate</td>\n",
       "      <td>Johnny Marr</td>\n",
       "      <td>Playland</td>\n",
       "      <td>appload</td>\n",
       "      <td>endplay</td>\n",
       "      <td>False</td>\n",
       "      <td>False</td>\n",
       "      <td>1.0</td>\n",
       "    </tr>\n",
       "  </tbody>\n",
       "</table>\n",
       "</div>"
      ],
      "text/plain": [
       "                     ts  ms_played conn_country master_metadata_track_name  \\\n",
       "0  2014-10-02T10:59:36Z      26563           BR                  Candidate   \n",
       "\n",
       "  master_metadata_album_artist_name master_metadata_album_album_name  \\\n",
       "0                       Johnny Marr                         Playland   \n",
       "\n",
       "  reason_start reason_end  shuffle  offline  skipped  \n",
       "0      appload    endplay    False    False      1.0  "
      ]
     },
     "execution_count": 4,
     "metadata": {},
     "output_type": "execute_result"
    }
   ],
   "source": [
    "df_audio = df_audio[df_audio['episode_show_name'].isna()] ## Removing podcasts\n",
    "df_audio = df_audio[~df_audio['master_metadata_track_name'].isna()] ## Removing residual no info records\n",
    "\n",
    "keep = [\"ts\",\n",
    "        \"ms_played\",\n",
    "        \"conn_country\",\n",
    "        \"master_metadata_track_name\", \n",
    "        \"master_metadata_album_artist_name\",\n",
    "        \"master_metadata_album_album_name\",\n",
    "        \"reason_start\",\n",
    "        \"reason_end\",\n",
    "        \"shuffle\",\n",
    "        \"offline\",\n",
    "        \"skipped\"]\n",
    "\n",
    "df_audio = df_audio[keep] ## Keeping only our columns of interest\n",
    "df_audio.head(1)\n"
   ]
  },
  {
   "cell_type": "markdown",
   "metadata": {},
   "source": [
    "##### Creating db table"
   ]
  },
  {
   "cell_type": "code",
   "execution_count": 5,
   "metadata": {},
   "outputs": [
    {
     "name": "stderr",
     "output_type": "stream",
     "text": [
      "C:\\Users\\jpgsa\\AppData\\Local\\Temp\\ipykernel_18864\\3444234137.py:4: RemovedIn20Warning: Deprecated API features detected! These feature(s) are not compatible with SQLAlchemy 2.0. To prevent incompatible upgrades prior to updating applications, ensure requirements files are pinned to \"sqlalchemy<2.0\". Set environment variable SQLALCHEMY_WARN_20=1 to show all deprecation warnings.  Set environment variable SQLALCHEMY_SILENCE_UBER_WARNING=1 to silence this message. (Background on SQLAlchemy 2.0 at: https://sqlalche.me/e/b8d9)\n",
      "  engine.execute(\"DROP TABLE tb_spotify_ph\")\n"
     ]
    },
    {
     "data": {
      "text/plain": [
       "146224"
      ]
     },
     "execution_count": 5,
     "metadata": {},
     "output_type": "execute_result"
    }
   ],
   "source": [
    "DB_PATH = os.path.dirname(os.getcwd()) + r\"\\spotify_ph.db\"\n",
    "engine = sqlalchemy.create_engine(\"sqlite:///\" + DB_PATH)\n",
    "\n",
    "engine.execute(\"DROP TABLE tb_spotify_ph\")\n",
    "df_audio.to_sql(\"tb_spotify_ph\", engine, index = False)"
   ]
  }
 ],
 "metadata": {
  "kernelspec": {
   "display_name": "Python 3",
   "language": "python",
   "name": "python3"
  },
  "language_info": {
   "codemirror_mode": {
    "name": "ipython",
    "version": 3
   },
   "file_extension": ".py",
   "mimetype": "text/x-python",
   "name": "python",
   "nbconvert_exporter": "python",
   "pygments_lexer": "ipython3",
   "version": "3.10.1"
  }
 },
 "nbformat": 4,
 "nbformat_minor": 2
}
